{
  "nbformat": 4,
  "nbformat_minor": 0,
  "metadata": {
    "colab": {
      "name": "ArtClassForMuseums.ipynb",
      "provenance": [],
      "authorship_tag": "ABX9TyM8cT8GY/YgE2s11dbD9H7a",
      "include_colab_link": true
    },
    "kernelspec": {
      "name": "python3",
      "display_name": "Python 3"
    },
    "language_info": {
      "name": "python"
    }
  },
  "cells": [
    {
      "cell_type": "markdown",
      "metadata": {
        "id": "view-in-github",
        "colab_type": "text"
      },
      "source": [
        "<a href=\"https://colab.research.google.com/github/AntMorais/artclass/blob/main/ArtClassForMuseums.ipynb\" target=\"_parent\"><img src=\"https://colab.research.google.com/assets/colab-badge.svg\" alt=\"Open In Colab\"/></a>"
      ]
    },
    {
      "cell_type": "markdown",
      "metadata": {
        "id": "q4JfVYDNS1vZ"
      },
      "source": [
        "# TODO\n",
        "- Image classification model\n",
        "- Train on WikiArt dataset\n",
        "- Predict artist\n",
        "- Serialize and convert to mobile\n",
        "- Get information about the artist\n"
      ]
    },
    {
      "cell_type": "markdown",
      "metadata": {
        "id": "jYbwzyPsTVTw"
      },
      "source": [
        "# 1 - Get dataset"
      ]
    },
    {
      "cell_type": "code",
      "metadata": {
        "id": "qXkM_VTwTsox"
      },
      "source": [
        "%%bash\n",
        "wget http://web.fsktm.um.edu.my/~cschan/source/ICIP2017/wikiart.zip -P datasets\n",
        "wget web.fsktm.um.edu.my/~cschan/source/ICIP2017/wikiart_csv.zip -P datasets"
      ],
      "execution_count": null,
      "outputs": []
    },
    {
      "cell_type": "code",
      "metadata": {
        "id": "HlxxMUMwUTvd"
      },
      "source": [
        "%%bash \n",
        "unzip \"*.zip\""
      ],
      "execution_count": null,
      "outputs": []
    },
    {
      "cell_type": "code",
      "metadata": {
        "id": "ArLH4WVnUZDB"
      },
      "source": [
        ""
      ],
      "execution_count": null,
      "outputs": []
    },
    {
      "cell_type": "markdown",
      "metadata": {
        "id": "d7kmtFRcTazO"
      },
      "source": [
        "# 2 - Get pretrained model"
      ]
    },
    {
      "cell_type": "markdown",
      "metadata": {
        "id": "gFGbVpJFTecD"
      },
      "source": [
        "# 3 - Finetune model "
      ]
    },
    {
      "cell_type": "markdown",
      "metadata": {
        "id": "aqM2fGcTThQO"
      },
      "source": [
        "# 4 - Test on unseen data"
      ]
    },
    {
      "cell_type": "markdown",
      "metadata": {
        "id": "-ccopXxNTlxM"
      },
      "source": [
        "# 5 - Serialize model and use it in mobile app\n"
      ]
    }
  ]
}