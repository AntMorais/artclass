{
  "cells": [
    {
      "cell_type": "markdown",
      "metadata": {},
      "source": [
        "# 0. Colab Setup"
      ]
    },
    {
      "cell_type": "code",
      "execution_count": 1,
      "metadata": {
        "id": "IgU0xi7RG3Po"
      },
      "outputs": [],
      "source": [
        "%matplotlib inline"
      ]
    },
    {
      "cell_type": "code",
      "execution_count": 2,
      "metadata": {
        "colab": {
          "base_uri": "https://localhost:8080/"
        },
        "id": "9H5L1LzDORDO",
        "outputId": "31da496f-d91f-46b8-d46b-98e9611f61d8"
      },
      "outputs": [
        {
          "name": "stdout",
          "output_type": "stream",
          "text": [
            "Mounted at /content/gdrive\n",
            "/content\n"
          ]
        }
      ],
      "source": [
        "from google.colab import drive\n",
        "drive.mount('/content/gdrive')\n",
        "%cd /content\n",
        "!mkdir -p datasets/wikiart"
      ]
    },
    {
      "cell_type": "code",
      "execution_count": null,
      "metadata": {
        "colab": {
          "background_save": true
        },
        "id": "m5wJlvx00Hqp"
      },
      "outputs": [],
      "source": [
        "!cp /content/gdrive/MyDrive/Work/BlogData/Datasets/WikiArt/wikiart.zip datasets\n",
        "!cp /content/gdrive/MyDrive/Work/BlogData/Datasets/WikiArt/wikiart_csv.zip datasets"
      ]
    },
    {
      "cell_type": "code",
      "execution_count": null,
      "metadata": {
        "colab": {
          "background_save": true
        },
        "id": "prCEYIzRORDP"
      },
      "outputs": [],
      "source": [
        "!unzip datasets/wikiart.zip -d datasets/wikiart\n",
        "!unzip datasets/wikiart_csv.zip -d datasets/wikiart_csv"
      ]
    },
    {
      "cell_type": "code",
      "execution_count": null,
      "metadata": {
        "colab": {
          "background_save": true
        },
        "id": "5JDCLoFONmu7"
      },
      "outputs": [],
      "source": [
        "!rm datasets/wikiart.zip\n",
        "!rm datasets/wikiart_csv.zip"
      ]
    },
    {
      "cell_type": "markdown",
      "metadata": {
        "id": "nvk_db4f9Qf8"
      },
      "source": [
        "# 1. Data cleaning"
      ]
    },
    {
      "cell_type": "code",
      "execution_count": null,
      "metadata": {
        "colab": {
          "background_save": true
        },
        "id": "frNvOV209qQD"
      },
      "outputs": [],
      "source": [
        "%cd datasets"
      ]
    },
    {
      "cell_type": "code",
      "execution_count": null,
      "metadata": {
        "colab": {
          "background_save": true
        },
        "id": "Zqw-v8qTNmxz"
      },
      "outputs": [],
      "source": [
        "import pandas as pd\n",
        "import numpy as np\n",
        "import yaml\n",
        "import os"
      ]
    },
    {
      "cell_type": "code",
      "execution_count": null,
      "metadata": {
        "colab": {
          "background_save": true
        },
        "id": "hT4r3aqvNm08"
      },
      "outputs": [],
      "source": [
        "\n",
        "def read_class_txt(txt_file):\n",
        "    # returns dictionary with key = id and value = label\n",
        "    with open(txt_file) as f:\n",
        "        lines = f.readlines()\n",
        "        lines = [line.strip().split() for line in lines]\n",
        "        classes_dict = dict(lines)\n",
        "    return classes_dict "
      ]
    },
    {
      "cell_type": "code",
      "execution_count": null,
      "metadata": {
        "colab": {
          "background_save": true
        },
        "id": "OiXZQriBNm3i"
      },
      "outputs": [],
      "source": [
        "path_to_class_info = \"/content/datasets/wikiart_csv\"\n",
        "artist_class = read_class_txt(os.path.join(path_to_class_info, 'artist_class.txt'))\n",
        "genre_class = read_class_txt(os.path.join(path_to_class_info, 'genre_class.txt'))\n",
        "style_class = read_class_txt(os.path.join(path_to_class_info, 'style_class.txt'))"
      ]
    },
    {
      "cell_type": "code",
      "execution_count": null,
      "metadata": {
        "colab": {
          "background_save": true
        },
        "id": "Ls1XAe0CITLB"
      },
      "outputs": [],
      "source": [
        "# change name because of data error\n",
        "style_class['3']='Art_Nouveau_Modern'"
      ]
    },
    {
      "cell_type": "code",
      "execution_count": null,
      "metadata": {
        "colab": {
          "background_save": true
        },
        "id": "VLJFkFdjm0L2"
      },
      "outputs": [],
      "source": [
        "# first model is going to be to classify style\n",
        "style_class"
      ]
    },
    {
      "cell_type": "code",
      "execution_count": null,
      "metadata": {
        "colab": {
          "background_save": true
        },
        "id": "P4Bo7RAsFJro"
      },
      "outputs": [],
      "source": [
        "# for label_type in ['artist', 'genre', 'style']:\n",
        "#     for subset in ['train', 'val']:\n",
        "#         pd.Dataframe(label_type+\"_\"+subset+\".csv\")\n"
      ]
    },
    {
      "cell_type": "markdown",
      "metadata": {
        "id": "tX-S7IiNHBde"
      },
      "source": [
        "# 2. Model "
      ]
    },
    {
      "cell_type": "code",
      "execution_count": null,
      "metadata": {
        "colab": {
          "background_save": true
        },
        "id": "3J0DpjB-FhzS"
      },
      "outputs": [],
      "source": [
        "\n",
        "from __future__ import print_function, division\n",
        "\n",
        "import torch\n",
        "import torch.nn as nn\n",
        "import torch.optim as optim\n",
        "from torch.optim import lr_scheduler\n",
        "import numpy as np\n",
        "import torchvision\n",
        "from torchvision import datasets, models, transforms as T\n",
        "import matplotlib.pyplot as plt\n",
        "import time\n",
        "import os\n",
        "import copy\n",
        "\n",
        "plt.ion()   # interactive mode"
      ]
    },
    {
      "cell_type": "markdown",
      "metadata": {
        "id": "dhyWqe-NHcQ_"
      },
      "source": [
        "ImageFolder is structured like this:\n",
        "\n",
        "```\n",
        "# root/label/image.png\n",
        "root/dog/xxx.png\n",
        "root/dog/xxy.png\n",
        "root/dog/[...]/xxz.png\n",
        "\n",
        "root/cat/123.png\n",
        "root/cat/nsdf3.png\n",
        "root/cat/[...]/asd932_.png\n",
        "```\n",
        "In our case:\n",
        "```\n",
        "wikiart\n",
        "    wikiart\n",
        "        train\n",
        "            Abstract_Expressionism\n",
        "                img1.jpg\n",
        "            ...\n",
        "        val\n",
        "            Abstract_Expressionism\n",
        "                imgX.jpg\n",
        "            ...\n",
        "```\n",
        "\n",
        "\n"
      ]
    },
    {
      "cell_type": "code",
      "execution_count": null,
      "metadata": {
        "colab": {
          "background_save": true
        },
        "id": "raoaVLD1skzs"
      },
      "outputs": [],
      "source": [
        "\n",
        "a = pd.read_csv(\"wikiart_csv/style_train.csv\", header=None)\n",
        "b = pd.read_csv(\"wikiart_csv/style_val.csv\", header=None)\n",
        "merged = a.append(b)\n",
        "merged.dropna()\n",
        "merged.to_csv(\"style.csv\", header=None, index=False)\n",
        "merged"
      ]
    },
    {
      "cell_type": "code",
      "execution_count": null,
      "metadata": {
        "colab": {
          "background_save": true
        },
        "id": "J_sgwXrgVSRi"
      },
      "outputs": [],
      "source": [
        "%cd /content/datasets/wikiart"
      ]
    },
    {
      "cell_type": "code",
      "execution_count": null,
      "metadata": {
        "id": "aFi6a2R9qPy2"
      },
      "outputs": [],
      "source": [
        "from torchvision.io import read_image\n",
        "from torch.utils.data import Dataset\n",
        "from torchvision import datasets\n",
        "from torchvision.transforms import ToTensor\n",
        "from torch.utils.data.sampler import SubsetRandomSampler\n",
        "\n",
        "class WikiArtDataset(Dataset):\n",
        "    def __init__(self, annotations_file, img_dir, transform=None, target_transform=None):\n",
        "        self.img_labels = pd.read_csv(annotations_file, header=None, names=['file_path','label'])\n",
        "        self.img_dir = img_dir\n",
        "        self.transform = transform\n",
        "        self.class_names = style_class\n",
        "        self.target_transform = target_transform\n",
        "\n",
        "    def __len__(self):\n",
        "        return len(self.img_labels)\n",
        "\n",
        "    def __getitem__(self, idx):\n",
        "        img_path = os.path.join(self.img_dir, self.img_labels.iloc[idx, 0])\n",
        "        image = read_image(img_path)\n",
        "        label = self.img_labels.iloc[idx, 1]\n",
        "        if self.transform:\n",
        "            image = self.transform(image)\n",
        "        if self.target_transform:\n",
        "            label = self.target_transform(label)\n",
        "        return image, label, img_path"
      ]
    },
    {
      "cell_type": "code",
      "execution_count": null,
      "metadata": {
        "id": "R7KZMF5et74j"
      },
      "outputs": [],
      "source": [
        "transform = nn.Sequential(\n",
        "            T.Resize([256, ]),  # We use single int value inside a list due to torchscript type restrictions\n",
        "            T.CenterCrop(224),\n",
        "            T.ConvertImageDtype(torch.float),\n",
        "            T.Normalize([0.485, 0.456, 0.406], [0.229, 0.224, 0.225])\n",
        "        )\n",
        "\n",
        "\n",
        "wikiart_dataset = WikiArtDataset(\n",
        "    '../style.csv', \n",
        "    'wikiart',\n",
        "    transform=transform\n",
        ")"
      ]
    },
    {
      "cell_type": "code",
      "execution_count": null,
      "metadata": {
        "id": "y7P8vrJrV5-X"
      },
      "outputs": [],
      "source": [
        "wikiart_dataset[0][0].shape"
      ]
    },
    {
      "cell_type": "code",
      "execution_count": null,
      "metadata": {
        "id": "pvAGC-uRWoaB"
      },
      "outputs": [],
      "source": [
        "dataset_size = len(wikiart_dataset)\n",
        "idxs = list(range(dataset_size))\n",
        "\n",
        "val_split = 0.2\n",
        "shuffle = True\n",
        "batch_size = 64\n",
        "\n",
        "split = int(np.floor(val_split * dataset_size))\n",
        "if shuffle :\n",
        "    np.random.seed(1)\n",
        "    np.random.shuffle(idxs)\n",
        "train_indices, val_indices = idxs[split:], idxs[:split]\n",
        "\n",
        "train_sampler = SubsetRandomSampler(train_indices)\n",
        "valid_sampler = SubsetRandomSampler(val_indices)\n",
        "\n",
        "train_loader = torch.utils.data.DataLoader(wikiart_dataset, batch_size=batch_size, \n",
        "                                           sampler=train_sampler)\n",
        "validation_loader = torch.utils.data.DataLoader(wikiart_dataset, batch_size=batch_size,\n",
        "                                                sampler=valid_sampler)\n",
        "\n",
        "dataloaders = {\n",
        "    'train': train_loader,\n",
        "    'val': validation_loader\n",
        "}\n",
        "\n",
        "\n",
        "dataset_sizes = {\n",
        "    'train': len(train_indices),\n",
        "    'val': len(val_indices)\n",
        "}\n"
      ]
    },
    {
      "cell_type": "code",
      "execution_count": null,
      "metadata": {
        "id": "r4Dw_HRUiDWn"
      },
      "outputs": [],
      "source": [
        "def imshow(inp, title=None):\n",
        "    \"\"\"Imshow for Tensor.\"\"\"\n",
        "    inp = inp.numpy().transpose((1, 2, 0))\n",
        "    mean = np.array([0.485, 0.456, 0.406])\n",
        "    std = np.array([0.229, 0.224, 0.225])\n",
        "    inp = std * inp + mean\n",
        "    inp = np.clip(inp, 0, 1)\n",
        "    plt.imshow(inp)\n",
        "    if title is not None:\n",
        "        plt.title(title)\n",
        "    plt.pause(0.001)  # pause a bit so that plots are updated\n",
        "\n",
        "\n",
        "# Get a batch of training data\n",
        "inputs, classes, img_paths = next(iter(train_loader))\n",
        "\n",
        "# Make a grid from batch\n",
        "out = torchvision.utils.make_grid(inputs)\n",
        "\n",
        "imshow(out)"
      ]
    },
    {
      "cell_type": "code",
      "execution_count": null,
      "metadata": {
        "id": "z2hvK9NZWofw"
      },
      "outputs": [],
      "source": [
        "\n",
        "device = torch.device(\"cuda:0\" if torch.cuda.is_available() else \"cpu\")\n",
        "from tqdm import tqdm\n",
        "def train_model(model, criterion, optimizer, scheduler, num_epochs=25):\n",
        "    since = time.time()\n",
        "\n",
        "    best_model_wts = copy.deepcopy(model.state_dict())\n",
        "    best_acc = 0.0\n",
        "\n",
        "    for epoch in range(num_epochs):\n",
        "        print('Epoch {}/{}'.format(epoch, num_epochs - 1))\n",
        "        print('-' * 10)\n",
        "\n",
        "        # Each epoch has a training and validation phase\n",
        "        for phase in ['train', 'val']:\n",
        "            if phase == 'train':\n",
        "                model.train()  # Set model to training mode\n",
        "            else:\n",
        "                model.eval()   # Set model to evaluate mode\n",
        "\n",
        "            running_loss = 0.0\n",
        "            running_corrects = 0\n",
        "            # Iterate over data.\n",
        "            try:\n",
        "                for inputs, labels, img_paths in tqdm(dataloaders[phase]):\n",
        "                        inputs = inputs.to(device)\n",
        "                        labels = labels.to(device)\n",
        "\n",
        "                        # zero the parameter gradients\n",
        "                        optimizer.zero_grad()\n",
        "\n",
        "                        # forward\n",
        "                        # track history if only in train\n",
        "                        with torch.set_grad_enabled(phase == 'train'):\n",
        "                            outputs = model(inputs)\n",
        "                            _, preds = torch.max(outputs, 1)\n",
        "                            loss = criterion(outputs, labels)\n",
        "\n",
        "                            # backward + optimize only if in training phase\n",
        "                            if phase == 'train':\n",
        "                                loss.backward()\n",
        "                                optimizer.step()\n",
        "\n",
        "                        # statistics\n",
        "                        running_loss += loss.item() * inputs.size(0)\n",
        "                        running_corrects += torch.sum(preds == labels.data)\n",
        "            except RuntimeError:\n",
        "                print(\"Error loading image in one of these images:\" + img_paths + \".\")\n",
        "                \n",
        "            if phase == 'train':\n",
        "                scheduler.step()\n",
        "\n",
        "            epoch_loss = running_loss / dataset_sizes[phase]\n",
        "            epoch_acc = running_corrects.double() / dataset_sizes[phase]\n",
        "\n",
        "            print('{} Loss: {:.4f} Acc: {:.4f}'.format(\n",
        "                phase, epoch_loss, epoch_acc))\n",
        "\n",
        "            # deep copy the model\n",
        "            if phase == 'val' and epoch_acc > best_acc:\n",
        "                best_acc = epoch_acc\n",
        "                best_model_wts = copy.deepcopy(model.state_dict())\n",
        "\n",
        "        print()\n",
        "\n",
        "    time_elapsed = time.time() - since\n",
        "    print('Training complete in {:.0f}m {:.0f}s'.format(\n",
        "        time_elapsed // 60, time_elapsed % 60))\n",
        "    print('Best val Acc: {:4f}'.format(best_acc))\n",
        "\n",
        "    # load best model weights\n",
        "    model.load_state_dict(best_model_wts)\n",
        "    return model"
      ]
    },
    {
      "cell_type": "code",
      "execution_count": null,
      "metadata": {
        "id": "geT1-c97hzD-"
      },
      "outputs": [],
      "source": [
        "def visualize_model(model, num_images=6):\n",
        "    was_training = model.training\n",
        "    model.eval()\n",
        "    images_so_far = 0\n",
        "    fig = plt.figure()\n",
        "\n",
        "    with torch.no_grad():\n",
        "        for i, (inputs, labels, img_paths) in enumerate(dataloaders['val']):\n",
        "            inputs = inputs.to(device)\n",
        "            labels = labels.to(device)\n",
        "\n",
        "            outputs = model(inputs)\n",
        "            _, preds = torch.max(outputs, 1)\n",
        "\n",
        "            for j in range(inputs.size()[0]):\n",
        "                images_so_far += 1\n",
        "                ax = plt.subplot(num_images//2, 2, images_so_far)\n",
        "                ax.axis('off')\n",
        "                ax.set_title('predicted: {} true: {} img path: {}'.format(wikiart_dataset.class_names[str(preds[j].item())], \\\n",
        "                                                             wikiart_dataset.class_names[str(labels[j].item())], \\\n",
        "                                                             img_paths[j]\n",
        "                                                             )\n",
        "                )\n",
        "                imshow(inputs.cpu().data[j])\n",
        "\n",
        "                if images_so_far == num_images:\n",
        "                    model.train(mode=was_training)\n",
        "                    return\n",
        "        model.train(mode=was_training)"
      ]
    },
    {
      "cell_type": "code",
      "execution_count": null,
      "metadata": {
        "id": "5COFfUKUn1lH"
      },
      "outputs": [],
      "source": [
        "\n",
        "model_ft = models.resnet18(pretrained=True, progress=True)\n",
        "\n",
        "num_ftrs = model_ft.fc.in_features\n",
        "\n",
        "model_ft.fc = nn.Linear(num_ftrs, len(wikiart_dataset.class_names))\n",
        "\n",
        "#continue from previoua best weights\n",
        "model_ft.load_state_dict(torch.load('/content/gdrive/MyDrive/Work/BlogData/best_epoch11.pt'))\n",
        "\n",
        "model_ft = model_ft.to(torch.device(\"cuda:0\"))\n",
        "\n",
        "criterion = nn.CrossEntropyLoss()\n",
        "\n",
        "# Observe that all parameters are being optimized\n",
        "optimizer_ft = optim.SGD(model_ft.parameters(), lr=0.001, momentum=0.9)\n",
        "\n",
        "# Decay LR by a factor of 0.1 every 7 epochs\n",
        "exp_lr_scheduler = lr_scheduler.StepLR(optimizer_ft, step_size=7, gamma=0.1)"
      ]
    },
    {
      "cell_type": "code",
      "execution_count": null,
      "metadata": {
        "colab": {
          "background_save": true,
          "base_uri": "https://localhost:8080/",
          "height": 477
        },
        "id": "XZtJ1MjJHEYB",
        "outputId": "92560c64-a0fe-4f7e-d470-fb530f87ab0b"
      },
      "outputs": [
        {
          "name": "stdout",
          "output_type": "stream",
          "text": [
            "Epoch 0/24\n",
            "----------\n"
          ]
        },
        {
          "name": "stderr",
          "output_type": "stream",
          "text": [
            "100%|██████████| 1019/1019 [28:09<00:00,  1.66s/it]\n"
          ]
        },
        {
          "name": "stdout",
          "output_type": "stream",
          "text": [
            "train Loss: 0.1277 Acc: 0.9701\n"
          ]
        },
        {
          "name": "stderr",
          "output_type": "stream",
          "text": [
            "  7%|▋         | 19/255 [00:30<06:18,  1.60s/it]\n"
          ]
        },
        {
          "ename": "TypeError",
          "evalue": "ignored",
          "output_type": "error",
          "traceback": [
            "\u001b[0;31m---------------------------------------------------------------------------\u001b[0m",
            "\u001b[0;31mRuntimeError\u001b[0m                              Traceback (most recent call last)",
            "\u001b[0;32m<ipython-input-22-3515f0400891>\u001b[0m in \u001b[0;36mtrain_model\u001b[0;34m(model, criterion, optimizer, scheduler, num_epochs)\u001b[0m\n\u001b[1;32m     24\u001b[0m             \u001b[0;32mtry\u001b[0m\u001b[0;34m:\u001b[0m\u001b[0;34m\u001b[0m\u001b[0;34m\u001b[0m\u001b[0m\n\u001b[0;32m---> 25\u001b[0;31m                 \u001b[0;32mfor\u001b[0m \u001b[0minputs\u001b[0m\u001b[0;34m,\u001b[0m \u001b[0mlabels\u001b[0m\u001b[0;34m,\u001b[0m \u001b[0mimg_paths\u001b[0m \u001b[0;32min\u001b[0m \u001b[0mtqdm\u001b[0m\u001b[0;34m(\u001b[0m\u001b[0mdataloaders\u001b[0m\u001b[0;34m[\u001b[0m\u001b[0mphase\u001b[0m\u001b[0;34m]\u001b[0m\u001b[0;34m)\u001b[0m\u001b[0;34m:\u001b[0m\u001b[0;34m\u001b[0m\u001b[0;34m\u001b[0m\u001b[0m\n\u001b[0m\u001b[1;32m     26\u001b[0m                         \u001b[0minputs\u001b[0m \u001b[0;34m=\u001b[0m \u001b[0minputs\u001b[0m\u001b[0;34m.\u001b[0m\u001b[0mto\u001b[0m\u001b[0;34m(\u001b[0m\u001b[0mdevice\u001b[0m\u001b[0;34m)\u001b[0m\u001b[0;34m\u001b[0m\u001b[0;34m\u001b[0m\u001b[0m\n",
            "\u001b[0;32m/usr/local/lib/python3.7/dist-packages/tqdm/std.py\u001b[0m in \u001b[0;36m__iter__\u001b[0;34m(self)\u001b[0m\n\u001b[1;32m   1179\u001b[0m         \u001b[0;32mtry\u001b[0m\u001b[0;34m:\u001b[0m\u001b[0;34m\u001b[0m\u001b[0;34m\u001b[0m\u001b[0m\n\u001b[0;32m-> 1180\u001b[0;31m             \u001b[0;32mfor\u001b[0m \u001b[0mobj\u001b[0m \u001b[0;32min\u001b[0m \u001b[0miterable\u001b[0m\u001b[0;34m:\u001b[0m\u001b[0;34m\u001b[0m\u001b[0;34m\u001b[0m\u001b[0m\n\u001b[0m\u001b[1;32m   1181\u001b[0m                 \u001b[0;32myield\u001b[0m \u001b[0mobj\u001b[0m\u001b[0;34m\u001b[0m\u001b[0;34m\u001b[0m\u001b[0m\n",
            "\u001b[0;32m/usr/local/lib/python3.7/dist-packages/torch/utils/data/dataloader.py\u001b[0m in \u001b[0;36m__next__\u001b[0;34m(self)\u001b[0m\n\u001b[1;32m    520\u001b[0m                 \u001b[0mself\u001b[0m\u001b[0;34m.\u001b[0m\u001b[0m_reset\u001b[0m\u001b[0;34m(\u001b[0m\u001b[0;34m)\u001b[0m\u001b[0;34m\u001b[0m\u001b[0;34m\u001b[0m\u001b[0m\n\u001b[0;32m--> 521\u001b[0;31m             \u001b[0mdata\u001b[0m \u001b[0;34m=\u001b[0m \u001b[0mself\u001b[0m\u001b[0;34m.\u001b[0m\u001b[0m_next_data\u001b[0m\u001b[0;34m(\u001b[0m\u001b[0;34m)\u001b[0m\u001b[0;34m\u001b[0m\u001b[0;34m\u001b[0m\u001b[0m\n\u001b[0m\u001b[1;32m    522\u001b[0m             \u001b[0mself\u001b[0m\u001b[0;34m.\u001b[0m\u001b[0m_num_yielded\u001b[0m \u001b[0;34m+=\u001b[0m \u001b[0;36m1\u001b[0m\u001b[0;34m\u001b[0m\u001b[0;34m\u001b[0m\u001b[0m\n",
            "\u001b[0;32m/usr/local/lib/python3.7/dist-packages/torch/utils/data/dataloader.py\u001b[0m in \u001b[0;36m_next_data\u001b[0;34m(self)\u001b[0m\n\u001b[1;32m    560\u001b[0m         \u001b[0mindex\u001b[0m \u001b[0;34m=\u001b[0m \u001b[0mself\u001b[0m\u001b[0;34m.\u001b[0m\u001b[0m_next_index\u001b[0m\u001b[0;34m(\u001b[0m\u001b[0;34m)\u001b[0m  \u001b[0;31m# may raise StopIteration\u001b[0m\u001b[0;34m\u001b[0m\u001b[0;34m\u001b[0m\u001b[0m\n\u001b[0;32m--> 561\u001b[0;31m         \u001b[0mdata\u001b[0m \u001b[0;34m=\u001b[0m \u001b[0mself\u001b[0m\u001b[0;34m.\u001b[0m\u001b[0m_dataset_fetcher\u001b[0m\u001b[0;34m.\u001b[0m\u001b[0mfetch\u001b[0m\u001b[0;34m(\u001b[0m\u001b[0mindex\u001b[0m\u001b[0;34m)\u001b[0m  \u001b[0;31m# may raise StopIteration\u001b[0m\u001b[0;34m\u001b[0m\u001b[0;34m\u001b[0m\u001b[0m\n\u001b[0m\u001b[1;32m    562\u001b[0m         \u001b[0;32mif\u001b[0m \u001b[0mself\u001b[0m\u001b[0;34m.\u001b[0m\u001b[0m_pin_memory\u001b[0m\u001b[0;34m:\u001b[0m\u001b[0;34m\u001b[0m\u001b[0;34m\u001b[0m\u001b[0m\n",
            "\u001b[0;32m/usr/local/lib/python3.7/dist-packages/torch/utils/data/_utils/fetch.py\u001b[0m in \u001b[0;36mfetch\u001b[0;34m(self, possibly_batched_index)\u001b[0m\n\u001b[1;32m     48\u001b[0m         \u001b[0;32mif\u001b[0m \u001b[0mself\u001b[0m\u001b[0;34m.\u001b[0m\u001b[0mauto_collation\u001b[0m\u001b[0;34m:\u001b[0m\u001b[0;34m\u001b[0m\u001b[0;34m\u001b[0m\u001b[0m\n\u001b[0;32m---> 49\u001b[0;31m             \u001b[0mdata\u001b[0m \u001b[0;34m=\u001b[0m \u001b[0;34m[\u001b[0m\u001b[0mself\u001b[0m\u001b[0;34m.\u001b[0m\u001b[0mdataset\u001b[0m\u001b[0;34m[\u001b[0m\u001b[0midx\u001b[0m\u001b[0;34m]\u001b[0m \u001b[0;32mfor\u001b[0m \u001b[0midx\u001b[0m \u001b[0;32min\u001b[0m \u001b[0mpossibly_batched_index\u001b[0m\u001b[0;34m]\u001b[0m\u001b[0;34m\u001b[0m\u001b[0;34m\u001b[0m\u001b[0m\n\u001b[0m\u001b[1;32m     50\u001b[0m         \u001b[0;32melse\u001b[0m\u001b[0;34m:\u001b[0m\u001b[0;34m\u001b[0m\u001b[0;34m\u001b[0m\u001b[0m\n",
            "\u001b[0;32m/usr/local/lib/python3.7/dist-packages/torch/utils/data/_utils/fetch.py\u001b[0m in \u001b[0;36m<listcomp>\u001b[0;34m(.0)\u001b[0m\n\u001b[1;32m     48\u001b[0m         \u001b[0;32mif\u001b[0m \u001b[0mself\u001b[0m\u001b[0;34m.\u001b[0m\u001b[0mauto_collation\u001b[0m\u001b[0;34m:\u001b[0m\u001b[0;34m\u001b[0m\u001b[0;34m\u001b[0m\u001b[0m\n\u001b[0;32m---> 49\u001b[0;31m             \u001b[0mdata\u001b[0m \u001b[0;34m=\u001b[0m \u001b[0;34m[\u001b[0m\u001b[0mself\u001b[0m\u001b[0;34m.\u001b[0m\u001b[0mdataset\u001b[0m\u001b[0;34m[\u001b[0m\u001b[0midx\u001b[0m\u001b[0;34m]\u001b[0m \u001b[0;32mfor\u001b[0m \u001b[0midx\u001b[0m \u001b[0;32min\u001b[0m \u001b[0mpossibly_batched_index\u001b[0m\u001b[0;34m]\u001b[0m\u001b[0;34m\u001b[0m\u001b[0;34m\u001b[0m\u001b[0m\n\u001b[0m\u001b[1;32m     50\u001b[0m         \u001b[0;32melse\u001b[0m\u001b[0;34m:\u001b[0m\u001b[0;34m\u001b[0m\u001b[0;34m\u001b[0m\u001b[0m\n",
            "\u001b[0;32m<ipython-input-16-ce4c8142fb25>\u001b[0m in \u001b[0;36m__getitem__\u001b[0;34m(self, idx)\u001b[0m\n\u001b[1;32m     19\u001b[0m         \u001b[0mimg_path\u001b[0m \u001b[0;34m=\u001b[0m \u001b[0mos\u001b[0m\u001b[0;34m.\u001b[0m\u001b[0mpath\u001b[0m\u001b[0;34m.\u001b[0m\u001b[0mjoin\u001b[0m\u001b[0;34m(\u001b[0m\u001b[0mself\u001b[0m\u001b[0;34m.\u001b[0m\u001b[0mimg_dir\u001b[0m\u001b[0;34m,\u001b[0m \u001b[0mself\u001b[0m\u001b[0;34m.\u001b[0m\u001b[0mimg_labels\u001b[0m\u001b[0;34m.\u001b[0m\u001b[0miloc\u001b[0m\u001b[0;34m[\u001b[0m\u001b[0midx\u001b[0m\u001b[0;34m,\u001b[0m \u001b[0;36m0\u001b[0m\u001b[0;34m]\u001b[0m\u001b[0;34m)\u001b[0m\u001b[0;34m\u001b[0m\u001b[0;34m\u001b[0m\u001b[0m\n\u001b[0;32m---> 20\u001b[0;31m         \u001b[0mimage\u001b[0m \u001b[0;34m=\u001b[0m \u001b[0mread_image\u001b[0m\u001b[0;34m(\u001b[0m\u001b[0mimg_path\u001b[0m\u001b[0;34m)\u001b[0m\u001b[0;34m\u001b[0m\u001b[0;34m\u001b[0m\u001b[0m\n\u001b[0m\u001b[1;32m     21\u001b[0m         \u001b[0mlabel\u001b[0m \u001b[0;34m=\u001b[0m \u001b[0mself\u001b[0m\u001b[0;34m.\u001b[0m\u001b[0mimg_labels\u001b[0m\u001b[0;34m.\u001b[0m\u001b[0miloc\u001b[0m\u001b[0;34m[\u001b[0m\u001b[0midx\u001b[0m\u001b[0;34m,\u001b[0m \u001b[0;36m1\u001b[0m\u001b[0;34m]\u001b[0m\u001b[0;34m\u001b[0m\u001b[0;34m\u001b[0m\u001b[0m\n",
            "\u001b[0;32m/usr/local/lib/python3.7/dist-packages/torchvision/io/image.py\u001b[0m in \u001b[0;36mread_image\u001b[0;34m(path, mode)\u001b[0m\n\u001b[1;32m    222\u001b[0m     \u001b[0mdata\u001b[0m \u001b[0;34m=\u001b[0m \u001b[0mread_file\u001b[0m\u001b[0;34m(\u001b[0m\u001b[0mpath\u001b[0m\u001b[0;34m)\u001b[0m\u001b[0;34m\u001b[0m\u001b[0;34m\u001b[0m\u001b[0m\n\u001b[0;32m--> 223\u001b[0;31m     \u001b[0;32mreturn\u001b[0m \u001b[0mdecode_image\u001b[0m\u001b[0;34m(\u001b[0m\u001b[0mdata\u001b[0m\u001b[0;34m,\u001b[0m \u001b[0mmode\u001b[0m\u001b[0;34m)\u001b[0m\u001b[0;34m\u001b[0m\u001b[0;34m\u001b[0m\u001b[0m\n\u001b[0m",
            "\u001b[0;32m/usr/local/lib/python3.7/dist-packages/torchvision/io/image.py\u001b[0m in \u001b[0;36mdecode_image\u001b[0;34m(input, mode)\u001b[0m\n\u001b[1;32m    201\u001b[0m     \"\"\"\n\u001b[0;32m--> 202\u001b[0;31m     \u001b[0moutput\u001b[0m \u001b[0;34m=\u001b[0m \u001b[0mtorch\u001b[0m\u001b[0;34m.\u001b[0m\u001b[0mops\u001b[0m\u001b[0;34m.\u001b[0m\u001b[0mimage\u001b[0m\u001b[0;34m.\u001b[0m\u001b[0mdecode_image\u001b[0m\u001b[0;34m(\u001b[0m\u001b[0minput\u001b[0m\u001b[0;34m,\u001b[0m \u001b[0mmode\u001b[0m\u001b[0;34m.\u001b[0m\u001b[0mvalue\u001b[0m\u001b[0;34m)\u001b[0m\u001b[0;34m\u001b[0m\u001b[0;34m\u001b[0m\u001b[0m\n\u001b[0m\u001b[1;32m    203\u001b[0m     \u001b[0;32mreturn\u001b[0m \u001b[0moutput\u001b[0m\u001b[0;34m\u001b[0m\u001b[0;34m\u001b[0m\u001b[0m\n",
            "\u001b[0;31mRuntimeError\u001b[0m: Unsupported marker type 0x4f",
            "\nDuring handling of the above exception, another exception occurred:\n",
            "\u001b[0;31mTypeError\u001b[0m                                 Traceback (most recent call last)",
            "\u001b[0;32m<ipython-input-26-e338034a4492>\u001b[0m in \u001b[0;36m<module>\u001b[0;34m()\u001b[0m\n\u001b[0;32m----> 1\u001b[0;31m \u001b[0mmodel_ft\u001b[0m \u001b[0;34m=\u001b[0m \u001b[0mtrain_model\u001b[0m\u001b[0;34m(\u001b[0m\u001b[0mmodel_ft\u001b[0m\u001b[0;34m,\u001b[0m \u001b[0mcriterion\u001b[0m\u001b[0;34m,\u001b[0m \u001b[0moptimizer_ft\u001b[0m\u001b[0;34m,\u001b[0m \u001b[0mexp_lr_scheduler\u001b[0m\u001b[0;34m,\u001b[0m\u001b[0mnum_epochs\u001b[0m\u001b[0;34m=\u001b[0m\u001b[0;36m25\u001b[0m\u001b[0;34m)\u001b[0m\u001b[0;34m\u001b[0m\u001b[0;34m\u001b[0m\u001b[0m\n\u001b[0m",
            "\u001b[0;32m<ipython-input-22-3515f0400891>\u001b[0m in \u001b[0;36mtrain_model\u001b[0;34m(model, criterion, optimizer, scheduler, num_epochs)\u001b[0m\n\u001b[1;32m     46\u001b[0m                         \u001b[0mrunning_corrects\u001b[0m \u001b[0;34m+=\u001b[0m \u001b[0mtorch\u001b[0m\u001b[0;34m.\u001b[0m\u001b[0msum\u001b[0m\u001b[0;34m(\u001b[0m\u001b[0mpreds\u001b[0m \u001b[0;34m==\u001b[0m \u001b[0mlabels\u001b[0m\u001b[0;34m.\u001b[0m\u001b[0mdata\u001b[0m\u001b[0;34m)\u001b[0m\u001b[0;34m\u001b[0m\u001b[0;34m\u001b[0m\u001b[0m\n\u001b[1;32m     47\u001b[0m             \u001b[0;32mexcept\u001b[0m \u001b[0mRuntimeError\u001b[0m\u001b[0;34m:\u001b[0m\u001b[0;34m\u001b[0m\u001b[0;34m\u001b[0m\u001b[0m\n\u001b[0;32m---> 48\u001b[0;31m                 \u001b[0mprint\u001b[0m\u001b[0;34m(\u001b[0m\u001b[0;34m\"Error loading image in one of these images:\"\u001b[0m \u001b[0;34m+\u001b[0m \u001b[0mimg_paths\u001b[0m \u001b[0;34m+\u001b[0m \u001b[0;34m\".\"\u001b[0m\u001b[0;34m)\u001b[0m\u001b[0;34m\u001b[0m\u001b[0;34m\u001b[0m\u001b[0m\n\u001b[0m\u001b[1;32m     49\u001b[0m \u001b[0;34m\u001b[0m\u001b[0m\n\u001b[1;32m     50\u001b[0m             \u001b[0;32mif\u001b[0m \u001b[0mphase\u001b[0m \u001b[0;34m==\u001b[0m \u001b[0;34m'train'\u001b[0m\u001b[0;34m:\u001b[0m\u001b[0;34m\u001b[0m\u001b[0;34m\u001b[0m\u001b[0m\n",
            "\u001b[0;31mTypeError\u001b[0m: can only concatenate str (not \"tuple\") to str"
          ]
        }
      ],
      "source": [
        "model_ft = train_model(model_ft, criterion, optimizer_ft, exp_lr_scheduler,num_epochs=25)"
      ]
    },
    {
      "cell_type": "code",
      "execution_count": null,
      "metadata": {
        "colab": {
          "base_uri": "https://localhost:8080/",
          "height": 575
        },
        "id": "HbpkYYsUHmFF",
        "outputId": "6957081b-995e-4517-b35a-2ff34891464c"
      },
      "outputs": [
        {
          "data": {
            "image/png": "[encoded data removed]",
            "text/plain": [
              "<Figure size 432x288 with 1 Axes>"
            ]
          },
          "metadata": {},
          "output_type": "display_data"
        },
        {
          "data": {
            "image/png": "[encoded data removed]",
            "text/plain": [
              "<Figure size 432x288 with 1 Axes>"
            ]
          },
          "metadata": {},
          "output_type": "display_data"
        },
        {
          "data": {
            "image/png": "[encoded data removed]",
            "text/plain": [
              "<Figure size 432x288 with 1 Axes>"
            ]
          },
          "metadata": {},
          "output_type": "display_data"
        },
        {
          "data": {
            "image/png": "[encoded data removed]",
            "text/plain": [
              "<Figure size 432x288 with 1 Axes>"
            ]
          },
          "metadata": {},
          "output_type": "display_data"
        },
        {
          "data": {
            "image/png": "[encoded data removed]",
            "text/plain": [
              "<Figure size 432x288 with 1 Axes>"
            ]
          },
          "metadata": {},
          "output_type": "display_data"
        },
        {
          "data": {
            "image/png": "[encoded data removed]",
            "text/plain": [
              "<Figure size 432x288 with 1 Axes>"
            ]
          },
          "metadata": {},
          "output_type": "display_data"
        }
      ],
      "source": [
        "visualize_model(model_ft)"
      ]
    },
    {
      "cell_type": "code",
      "execution_count": null,
      "metadata": {
        "id": "eQXQRfVOHEcK"
      },
      "outputs": [],
      "source": [
        "torch.save(model_ft.state_dict(), '/content/gdrive/MyDrive/Work/BlogData/best_epoch11.pt')"
      ]
    },
    {
      "cell_type": "code",
      "execution_count": null,
      "metadata": {
        "id": "iZXVfXPupXiA"
      },
      "outputs": [],
      "source": [
        "aux = torch.load('/content/gdrive/MyDrive/Work/BlogData/best_epoch0.pt')\n",
        "aux1 = torch.load('/content/gdrive/MyDrive/Work/BlogData/best_epoch1.pt')"
      ]
    },
    {
      "cell_type": "code",
      "execution_count": null,
      "metadata": {
        "colab": {
          "base_uri": "https://localhost:8080/"
        },
        "id": "qoluuKMGHEgW",
        "outputId": "b8fc60d8-3655-4dff-be01-18d6a92aed7a"
      },
      "outputs": [
        {
          "data": {
            "text/plain": [
              "odict_keys(['conv1.weight', 'bn1.weight', 'bn1.bias', 'bn1.running_mean', 'bn1.running_var', 'bn1.num_batches_tracked', 'layer1.0.conv1.weight', 'layer1.0.bn1.weight', 'layer1.0.bn1.bias', 'layer1.0.bn1.running_mean', 'layer1.0.bn1.running_var', 'layer1.0.bn1.num_batches_tracked', 'layer1.0.conv2.weight', 'layer1.0.bn2.weight', 'layer1.0.bn2.bias', 'layer1.0.bn2.running_mean', 'layer1.0.bn2.running_var', 'layer1.0.bn2.num_batches_tracked', 'layer1.1.conv1.weight', 'layer1.1.bn1.weight', 'layer1.1.bn1.bias', 'layer1.1.bn1.running_mean', 'layer1.1.bn1.running_var', 'layer1.1.bn1.num_batches_tracked', 'layer1.1.conv2.weight', 'layer1.1.bn2.weight', 'layer1.1.bn2.bias', 'layer1.1.bn2.running_mean', 'layer1.1.bn2.running_var', 'layer1.1.bn2.num_batches_tracked', 'layer2.0.conv1.weight', 'layer2.0.bn1.weight', 'layer2.0.bn1.bias', 'layer2.0.bn1.running_mean', 'layer2.0.bn1.running_var', 'layer2.0.bn1.num_batches_tracked', 'layer2.0.conv2.weight', 'layer2.0.bn2.weight', 'layer2.0.bn2.bias', 'layer2.0.bn2.running_mean', 'layer2.0.bn2.running_var', 'layer2.0.bn2.num_batches_tracked', 'layer2.0.downsample.0.weight', 'layer2.0.downsample.1.weight', 'layer2.0.downsample.1.bias', 'layer2.0.downsample.1.running_mean', 'layer2.0.downsample.1.running_var', 'layer2.0.downsample.1.num_batches_tracked', 'layer2.1.conv1.weight', 'layer2.1.bn1.weight', 'layer2.1.bn1.bias', 'layer2.1.bn1.running_mean', 'layer2.1.bn1.running_var', 'layer2.1.bn1.num_batches_tracked', 'layer2.1.conv2.weight', 'layer2.1.bn2.weight', 'layer2.1.bn2.bias', 'layer2.1.bn2.running_mean', 'layer2.1.bn2.running_var', 'layer2.1.bn2.num_batches_tracked', 'layer3.0.conv1.weight', 'layer3.0.bn1.weight', 'layer3.0.bn1.bias', 'layer3.0.bn1.running_mean', 'layer3.0.bn1.running_var', 'layer3.0.bn1.num_batches_tracked', 'layer3.0.conv2.weight', 'layer3.0.bn2.weight', 'layer3.0.bn2.bias', 'layer3.0.bn2.running_mean', 'layer3.0.bn2.running_var', 'layer3.0.bn2.num_batches_tracked', 'layer3.0.downsample.0.weight', 'layer3.0.downsample.1.weight', 'layer3.0.downsample.1.bias', 'layer3.0.downsample.1.running_mean', 'layer3.0.downsample.1.running_var', 'layer3.0.downsample.1.num_batches_tracked', 'layer3.1.conv1.weight', 'layer3.1.bn1.weight', 'layer3.1.bn1.bias', 'layer3.1.bn1.running_mean', 'layer3.1.bn1.running_var', 'layer3.1.bn1.num_batches_tracked', 'layer3.1.conv2.weight', 'layer3.1.bn2.weight', 'layer3.1.bn2.bias', 'layer3.1.bn2.running_mean', 'layer3.1.bn2.running_var', 'layer3.1.bn2.num_batches_tracked', 'layer4.0.conv1.weight', 'layer4.0.bn1.weight', 'layer4.0.bn1.bias', 'layer4.0.bn1.running_mean', 'layer4.0.bn1.running_var', 'layer4.0.bn1.num_batches_tracked', 'layer4.0.conv2.weight', 'layer4.0.bn2.weight', 'layer4.0.bn2.bias', 'layer4.0.bn2.running_mean', 'layer4.0.bn2.running_var', 'layer4.0.bn2.num_batches_tracked', 'layer4.0.downsample.0.weight', 'layer4.0.downsample.1.weight', 'layer4.0.downsample.1.bias', 'layer4.0.downsample.1.running_mean', 'layer4.0.downsample.1.running_var', 'layer4.0.downsample.1.num_batches_tracked', 'layer4.1.conv1.weight', 'layer4.1.bn1.weight', 'layer4.1.bn1.bias', 'layer4.1.bn1.running_mean', 'layer4.1.bn1.running_var', 'layer4.1.bn1.num_batches_tracked', 'layer4.1.conv2.weight', 'layer4.1.bn2.weight', 'layer4.1.bn2.bias', 'layer4.1.bn2.running_mean', 'layer4.1.bn2.running_var', 'layer4.1.bn2.num_batches_tracked', 'fc.weight', 'fc.bias'])"
            ]
          },
          "execution_count": 30,
          "metadata": {},
          "output_type": "execute_result"
        }
      ],
      "source": [
        "aux.keys()"
      ]
    },
    {
      "cell_type": "code",
      "execution_count": null,
      "metadata": {
        "colab": {
          "base_uri": "https://localhost:8080/",
          "height": 198
        },
        "id": "rnKJuD7Rpidi",
        "outputId": "5682f273-4ce5-4599-d789-4ea680a85428"
      },
      "outputs": [
        {
          "ename": "AssertionError",
          "evalue": "ignored",
          "output_type": "error",
          "traceback": [
            "\u001b[0;31m---------------------------------------------------------------------------\u001b[0m",
            "\u001b[0;31mAssertionError\u001b[0m                            Traceback (most recent call last)",
            "\u001b[0;32m<ipython-input-36-9cc6d381990d>\u001b[0m in \u001b[0;36m<module>\u001b[0;34m()\u001b[0m\n\u001b[1;32m      1\u001b[0m \u001b[0;32mfor\u001b[0m \u001b[0mk\u001b[0m \u001b[0;32min\u001b[0m \u001b[0maux\u001b[0m\u001b[0;34m.\u001b[0m\u001b[0mkeys\u001b[0m\u001b[0;34m(\u001b[0m\u001b[0;34m)\u001b[0m\u001b[0;34m:\u001b[0m\u001b[0;34m\u001b[0m\u001b[0;34m\u001b[0m\u001b[0m\n\u001b[1;32m      2\u001b[0m     \u001b[0;32mif\u001b[0m \u001b[0;32mnot\u001b[0m \u001b[0mtorch\u001b[0m\u001b[0;34m.\u001b[0m\u001b[0mequal\u001b[0m\u001b[0;34m(\u001b[0m\u001b[0maux\u001b[0m\u001b[0;34m[\u001b[0m\u001b[0mk\u001b[0m\u001b[0;34m]\u001b[0m\u001b[0;34m,\u001b[0m \u001b[0maux1\u001b[0m\u001b[0;34m[\u001b[0m\u001b[0mk\u001b[0m\u001b[0;34m]\u001b[0m\u001b[0;34m)\u001b[0m\u001b[0;34m:\u001b[0m\u001b[0;34m\u001b[0m\u001b[0;34m\u001b[0m\u001b[0m\n\u001b[0;32m----> 3\u001b[0;31m         \u001b[0;32massert\u001b[0m \u001b[0;32mFalse\u001b[0m\u001b[0;34m,\u001b[0m \u001b[0mk\u001b[0m\u001b[0;34m\u001b[0m\u001b[0;34m\u001b[0m\u001b[0m\n\u001b[0m",
            "\u001b[0;31mAssertionError\u001b[0m: conv1.weight"
          ]
        }
      ],
      "source": []
    },
    {
      "cell_type": "code",
      "execution_count": null,
      "metadata": {
        "colab": {
          "base_uri": "https://localhost:8080/"
        },
        "id": "brFxbj5CqWjx",
        "outputId": "b2034f2a-e157-4607-c6ae-ba6383367464"
      },
      "outputs": [
        {
          "data": {
            "text/plain": [
              "tensor([-2.0040e-02, -5.5502e-02, -4.8008e-02, -3.7522e-02, -5.6584e-02,\n",
              "        -2.6006e-02, -4.8615e-02, -3.1162e-02,  6.8295e-02, -2.8854e-02,\n",
              "        -6.5960e-02, -3.3053e-03, -4.0731e-02, -6.5310e-03, -2.6999e-02,\n",
              "        -2.1979e-02, -4.1503e-02, -7.5110e-02,  4.8543e-02, -3.4257e-02,\n",
              "        -1.7841e-03, -7.9896e-02, -4.0240e-02, -5.1213e-02, -1.3272e-02,\n",
              "        -2.3519e-03, -1.7678e-02, -4.6448e-02, -5.5405e-02, -6.3582e-02,\n",
              "        -2.4701e-02, -6.4664e-02, -3.6682e-02, -4.2033e-02, -1.9993e-02,\n",
              "        -5.0927e-02, -4.7094e-02, -6.9702e-02, -1.6908e-02, -4.7398e-02,\n",
              "        -9.2493e-02, -2.4162e-02, -4.9332e-02,  1.0608e-02, -4.4722e-02,\n",
              "        -4.6333e-02, -3.7276e-02,  4.7801e-02, -4.2847e-02, -2.7033e-02,\n",
              "        -2.8021e-02, -8.4015e-03, -6.3775e-02, -3.1212e-02, -9.4152e-03,\n",
              "        -3.0148e-02, -5.1226e-02, -4.8370e-04, -4.7573e-02, -5.0806e-02,\n",
              "        -5.5891e-02, -2.1540e-02, -7.7253e-02, -7.7059e-02, -5.0097e-02,\n",
              "        -4.7315e-02, -6.5418e-03, -7.4428e-02, -7.7331e-02, -4.0209e-02,\n",
              "        -2.4775e-02, -3.4576e-02, -2.1445e-02, -6.6779e-02, -5.4548e-02,\n",
              "        -6.9500e-02, -2.4440e-02, -5.8472e-05, -5.5898e-02, -4.3676e-02,\n",
              "        -3.6901e-02, -3.8751e-03, -3.6802e-02,  3.5780e-02, -5.3648e-02,\n",
              "        -6.0140e-02, -2.7239e-02, -4.9366e-02, -4.2102e-02,  1.4859e-02,\n",
              "        -2.4649e-02, -5.8827e-03, -1.6495e-02, -6.1684e-02, -3.8036e-02,\n",
              "        -5.9914e-02, -1.7774e-02, -5.9603e-02, -2.9068e-02, -4.3527e-03,\n",
              "        -6.2014e-02, -6.3248e-02, -4.6075e-02, -5.2171e-02, -3.5749e-02,\n",
              "         3.9858e-03, -6.3232e-02, -4.7598e-02, -2.9202e-02, -5.7360e-02,\n",
              "        -1.1191e-02, -4.3820e-02, -2.5049e-02, -2.1394e-02, -7.1318e-02,\n",
              "        -3.4904e-02, -7.4340e-02,  4.0397e-02, -3.3483e-02, -3.2057e-02,\n",
              "        -1.6307e-02, -2.7651e-02, -4.0931e-02, -9.5184e-03,  5.5242e-03,\n",
              "        -3.2464e-02, -3.3074e-02, -4.4255e-02, -6.7781e-02, -5.5052e-02,\n",
              "        -7.7759e-02, -6.2840e-02, -3.8039e-02, -5.2203e-02, -7.6158e-02,\n",
              "        -7.9614e-02, -4.8350e-02, -3.9441e-02, -3.6864e-02, -3.9331e-02,\n",
              "        -1.9491e-02, -5.7520e-02, -5.2137e-02, -7.7129e-02, -2.7443e-02,\n",
              "        -5.8136e-02, -7.5579e-03, -3.1883e-02, -4.6493e-02, -6.6150e-02,\n",
              "        -3.4688e-02, -2.8169e-02, -4.2011e-02, -3.8030e-03, -3.7230e-02,\n",
              "        -6.0910e-02, -2.4177e-02, -3.7114e-02, -2.7493e-02, -3.8851e-02,\n",
              "        -4.7408e-02, -6.6763e-02, -1.3067e-02,  4.0885e-02, -3.1360e-02,\n",
              "        -6.0446e-03, -3.5720e-02, -6.2333e-02, -5.8367e-02, -2.2035e-02,\n",
              "        -2.2325e-02, -5.5466e-02, -1.2201e-02, -3.9227e-02, -5.2826e-02,\n",
              "        -8.0086e-03, -6.7235e-02, -4.0334e-02, -6.8550e-02, -1.9685e-02,\n",
              "         1.4597e-02, -1.9308e-02, -7.1828e-02, -7.3061e-02, -3.2274e-02,\n",
              "        -1.8224e-02, -4.9768e-02, -6.0512e-02, -2.1383e-02, -3.2600e-02,\n",
              "        -4.2430e-02, -2.4305e-02,  2.1888e-04, -7.6382e-02, -3.3761e-02,\n",
              "        -2.1027e-02, -3.6287e-02, -3.3676e-02,  4.9177e-04, -4.1420e-02,\n",
              "        -2.6155e-02, -5.2058e-02, -8.9695e-02, -3.1699e-02, -3.1101e-02,\n",
              "        -4.9924e-02, -2.5981e-02, -3.5681e-02, -6.1168e-02, -8.1705e-02,\n",
              "        -4.4815e-02,  6.1159e-03, -2.1953e-02, -4.6914e-02, -4.1298e-02,\n",
              "        -4.9398e-02, -4.2824e-02, -3.0925e-02, -2.9120e-02, -5.2968e-02,\n",
              "        -6.4158e-02, -4.2785e-02, -4.4243e-05, -3.2746e-02,  9.2104e-03,\n",
              "        -6.6898e-02, -3.0947e-02, -1.0563e-01, -2.2028e-02, -6.7256e-02,\n",
              "        -3.0474e-02, -3.3750e-02, -1.1631e-02,  4.3948e-03, -2.5553e-02,\n",
              "         1.3123e-02,  2.6932e-03, -8.1739e-02, -3.5959e-02, -1.8604e-02,\n",
              "        -2.8543e-02, -1.7740e-02, -3.3806e-02, -4.2633e-02, -9.7219e-03,\n",
              "        -6.6412e-02, -5.5511e-02, -4.3090e-02, -3.5366e-02, -3.4251e-02,\n",
              "        -4.6849e-02,  5.4700e-04, -3.0384e-02, -3.3088e-02, -2.3032e-02,\n",
              "        -4.6201e-02, -4.9569e-02, -3.6423e-02, -4.0841e-02, -5.0993e-02,\n",
              "        -4.2274e-02, -5.7832e-02, -6.3626e-02, -1.6898e-02, -6.7732e-02,\n",
              "        -5.0454e-02,  2.9879e-03, -5.0674e-02,  1.3198e-02, -3.0868e-02,\n",
              "        -3.7309e-02, -5.7980e-02, -2.8789e-02, -2.4960e-02, -3.6848e-02,\n",
              "        -2.6345e-02, -5.4586e-02, -4.7960e-02, -4.8331e-02, -4.1966e-02,\n",
              "         1.8056e-02, -2.2289e-02,  5.3893e-03, -3.1903e-02, -3.1585e-02,\n",
              "        -1.7824e-02, -4.8219e-02, -4.4143e-02, -4.4281e-02, -3.0148e-02,\n",
              "        -5.9675e-02, -1.1991e-02,  1.0849e-02, -3.7380e-02, -3.2777e-02,\n",
              "        -3.1654e-02, -4.0571e-02, -6.9892e-02, -2.0603e-03, -3.4672e-02,\n",
              "        -9.0716e-03, -1.9006e-02, -2.0643e-02, -2.1246e-02, -2.3307e-02,\n",
              "         5.6154e-03, -4.0595e-02, -6.6200e-03, -5.9301e-02, -4.1693e-02,\n",
              "        -6.1563e-02, -1.6889e-02, -5.3197e-02, -4.2618e-02, -3.2712e-02,\n",
              "        -3.1111e-02, -3.1367e-02, -2.0576e-02, -1.1414e-02, -3.7573e-02,\n",
              "        -4.5728e-02, -5.2011e-02, -2.8112e-02, -3.4102e-02, -3.4038e-02,\n",
              "        -3.8468e-02,  4.6167e-03, -2.0077e-02, -3.1814e-02, -3.8896e-02,\n",
              "        -1.5553e-02,  1.9808e-02, -4.4265e-02,  6.9564e-03, -5.5872e-02,\n",
              "        -2.2627e-02, -1.5445e-02, -4.0561e-02, -1.6811e-02, -1.3928e-02,\n",
              "        -6.6714e-02, -2.4850e-02, -4.6394e-02,  3.1720e-02, -2.9939e-02,\n",
              "        -3.1163e-02, -5.7165e-02,  2.6096e-02, -3.7465e-02, -3.4548e-02,\n",
              "        -3.5553e-02, -3.0795e-02, -1.6059e-02, -3.9179e-02, -7.4912e-02,\n",
              "        -1.5488e-02, -5.9066e-03,  5.4660e-03, -6.0988e-02, -3.0312e-02,\n",
              "        -9.6569e-03, -1.2654e-02, -1.7405e-02, -4.4915e-02, -7.6819e-03,\n",
              "        -1.8968e-02, -4.9450e-02, -2.1121e-02, -1.1519e-02, -1.9103e-02,\n",
              "        -5.0141e-02, -2.6171e-02, -6.5103e-02, -5.3753e-02, -3.3616e-02,\n",
              "        -3.7521e-02, -3.2955e-02, -5.2271e-02, -4.6841e-02, -1.2755e-02,\n",
              "        -2.8683e-02,  1.9399e-02,  1.1699e-03, -6.3397e-02, -3.3261e-02,\n",
              "        -3.4100e-02, -4.5756e-02, -3.9370e-02, -4.5001e-02, -8.3135e-02,\n",
              "        -1.1335e-02, -4.1459e-02, -7.8108e-02, -5.7037e-02, -2.3646e-02,\n",
              "        -1.5559e-02, -2.5227e-02, -1.4791e-02, -3.4316e-02, -3.2221e-02,\n",
              "        -1.0037e-01, -3.9572e-02, -1.3796e-02, -4.0724e-02,  1.7564e-02,\n",
              "        -4.5783e-02, -5.2220e-02, -5.1778e-02,  1.2808e-02, -1.3028e-02,\n",
              "        -7.2223e-02, -9.5385e-02,  1.0519e-02, -3.1106e-02, -5.2246e-04,\n",
              "        -7.1312e-02, -2.5763e-02, -4.8742e-02, -2.5404e-02, -5.6642e-02,\n",
              "        -1.7991e-02, -4.7283e-02, -3.2271e-02, -4.3610e-02, -2.6612e-02,\n",
              "        -2.0895e-02, -4.3324e-02, -7.6362e-02, -2.8419e-02, -1.7242e-03,\n",
              "        -3.3851e-02, -5.6611e-02, -6.5660e-02, -2.9097e-02, -5.8889e-02,\n",
              "        -5.9669e-02, -5.4502e-03, -3.2877e-02, -4.6930e-02, -3.8842e-02,\n",
              "        -2.9998e-02, -2.8634e-02, -4.3007e-02, -2.7413e-02, -5.1901e-02,\n",
              "        -3.4023e-02, -9.0020e-02, -2.6523e-02, -4.3345e-02, -1.9507e-02,\n",
              "        -9.7419e-03,  3.0449e-02, -6.3259e-02, -1.9988e-02, -3.0934e-02,\n",
              "        -6.8613e-02, -1.2963e-02, -4.4080e-02, -1.5214e-02, -1.3883e-02,\n",
              "        -3.1900e-02, -2.7741e-02, -5.3334e-02, -4.0060e-02, -1.7830e-02,\n",
              "        -6.2835e-02, -3.7568e-02, -2.7460e-02, -5.7404e-02, -4.3780e-02,\n",
              "        -4.9520e-02, -4.0583e-02, -3.4473e-02, -3.7015e-02, -6.6915e-03,\n",
              "        -5.2314e-02, -1.6843e-02, -3.0380e-02, -8.6310e-02, -5.0217e-02,\n",
              "        -5.2586e-02, -3.8184e-02, -3.7493e-02, -4.5342e-02, -1.2895e-02,\n",
              "        -1.6457e-02, -6.2620e-02, -3.3391e-02, -6.8445e-02, -4.4318e-02,\n",
              "        -2.5819e-02, -2.4982e-02, -2.6607e-02, -5.5278e-02, -2.4516e-02,\n",
              "        -3.2684e-02,  1.7882e-03, -3.8629e-02, -3.4716e-02, -5.5864e-02,\n",
              "        -3.1170e-02, -3.2743e-02, -4.3133e-02, -1.2096e-02, -5.0533e-02,\n",
              "        -1.4358e-02, -1.5626e-02, -5.1660e-02, -4.0371e-02, -6.4330e-02,\n",
              "        -6.1887e-02, -4.8365e-02], device='cuda:0')"
            ]
          },
          "execution_count": 33,
          "metadata": {},
          "output_type": "execute_result"
        }
      ],
      "source": [
        "aux['layer4.1.bn2.running_mean']"
      ]
    },
    {
      "cell_type": "code",
      "execution_count": null,
      "metadata": {},
      "outputs": [],
      "source": []
    },
    {
      "cell_type": "markdown",
      "metadata": {},
      "source": [
        "# 3. Optimization"
      ]
    },
    {
      "cell_type": "code",
      "execution_count": 4,
      "metadata": {
        "id": "kPH2715VqcTX"
      },
      "outputs": [
        {
          "name": "stdout",
          "output_type": "stream",
          "text": [
            "Requirement already satisfied: torch in /opt/anaconda3/lib/python3.9/site-packages (1.10.0)\n",
            "Requirement already satisfied: torchvision in /opt/anaconda3/lib/python3.9/site-packages (0.11.1)\n",
            "Requirement already satisfied: timm in /opt/anaconda3/lib/python3.9/site-packages (0.4.12)\n",
            "Requirement already satisfied: pandas in /opt/anaconda3/lib/python3.9/site-packages (1.3.4)\n",
            "Requirement already satisfied: requests in /opt/anaconda3/lib/python3.9/site-packages (2.26.0)\n",
            "Requirement already satisfied: typing_extensions in /opt/anaconda3/lib/python3.9/site-packages (from torch) (3.10.0.2)\n",
            "Requirement already satisfied: numpy in /opt/anaconda3/lib/python3.9/site-packages (from torchvision) (1.21.5)\n",
            "Requirement already satisfied: pillow!=8.3.0,>=5.3.0 in /opt/anaconda3/lib/python3.9/site-packages (from torchvision) (8.3.2)\n",
            "Requirement already satisfied: python-dateutil>=2.7.3 in /opt/anaconda3/lib/python3.9/site-packages (from pandas) (2.8.2)\n",
            "Requirement already satisfied: pytz>=2017.3 in /opt/anaconda3/lib/python3.9/site-packages (from pandas) (2021.3)\n",
            "Requirement already satisfied: urllib3<1.27,>=1.21.1 in /opt/anaconda3/lib/python3.9/site-packages (from requests) (1.26.7)\n",
            "Requirement already satisfied: charset-normalizer~=2.0.0 in /opt/anaconda3/lib/python3.9/site-packages (from requests) (2.0.4)\n",
            "Requirement already satisfied: idna<4,>=2.5 in /opt/anaconda3/lib/python3.9/site-packages (from requests) (3.2)\n",
            "Requirement already satisfied: certifi>=2017.4.17 in /opt/anaconda3/lib/python3.9/site-packages (from requests) (2021.10.8)\n",
            "Requirement already satisfied: six>=1.5 in /opt/anaconda3/lib/python3.9/site-packages (from python-dateutil>=2.7.3->pandas) (1.16.0)\n"
          ]
        }
      ],
      "source": [
        "# Based on tutorials\n",
        "# https://www.google.com/search?client=safari&rls=en&q=pytorch+tutorial+optimise+inference+speed&ie=UTF-8&oe=UTF-8\n",
        "# https://pytorch.org/tutorials/recipes/mobile_perf.html?highlight=mobile\n",
        "# \n",
        "!pip install torch torchvision timm pandas requests"
      ]
    },
    {
      "cell_type": "code",
      "execution_count": null,
      "metadata": {},
      "outputs": [],
      "source": [
        "\n",
        "# example on how to convert to torchscript in the following link\n",
        "# https://pytorch.org/tutorials/beginner/Intro_to_TorchScript_tutorial.html\n",
        "# Steps\n",
        "#   - Tracing\n",
        "#   - \n",
        "\n",
        "traced_model = torch.jit.trace(model_ft, example_inputs=wikiart_dataset[0])\n",
        "print(traced_model.code)\n",
        "scripted_model = torch.jit.script(model_ft)\n",
        "print(scripted_model.code)\n",
        "scripted_model.save('/content/gdrive/MyDrive/Work/BlogData/scripted_best_epoch13.pt')\n",
        "# Benefits of tracing\n",
        "#   - Many requests can be processed at the same time (we can run in inference mode on several different )\n",
        "\n",
        "\n",
        "# TODO Tracing vs Scripting? Major differences?"
      ]
    },
    {
      "cell_type": "code",
      "execution_count": null,
      "metadata": {},
      "outputs": [],
      "source": [
        "\n",
        "loaded = torch.jit.load('/content/gdrive/MyDrive/Work/BlogData/scripted_best_epoch13.pt')"
      ]
    },
    {
      "cell_type": "markdown",
      "metadata": {},
      "source": [
        "# 4. Serving"
      ]
    },
    {
      "cell_type": "code",
      "execution_count": 5,
      "metadata": {},
      "outputs": [
        {
          "name": "stdout",
          "output_type": "stream",
          "text": [
            "Cloning into 'serve'...\n",
            "remote: Enumerating objects: 26775, done.\u001b[K\n",
            "remote: Counting objects: 100% (59/59), done.\u001b[K\n",
            "remote: Compressing objects: 100% (49/49), done.\u001b[K\n",
            "^Cceiving objects:  17% (4552/26775), 26.12 MiB | 4.13 MiB/s   \n",
            "fetch-pack: unexpected disconnect while reading sideband packet\n",
            "zsh:cd:1: no such file or directory: serve\n",
            "zsh:1: command not found: nvidia-smi\n"
          ]
        }
      ],
      "source": [
        "# install torchserve\n",
        "!git clone git@github.com:pytorch/serve.git\n",
        "!cd serve\n",
        "# check cuda version in google colab \n",
        "!nvidia-smi\n",
        "\n"
      ]
    },
    {
      "cell_type": "code",
      "execution_count": null,
      "metadata": {},
      "outputs": [],
      "source": [
        "\n",
        "!python ./ts_scripts/install_dependencies.py --cuda=cu102"
      ]
    },
    {
      "cell_type": "code",
      "execution_count": null,
      "metadata": {},
      "outputs": [],
      "source": [
        "# we need to run commands from the parent dir\n",
        "!cd .."
      ]
    },
    {
      "cell_type": "code",
      "execution_count": null,
      "metadata": {},
      "outputs": [],
      "source": [
        "%%bash\n",
        "mkdir model_store"
      ]
    },
    {
      "cell_type": "code",
      "execution_count": null,
      "metadata": {},
      "outputs": [],
      "source": [
        "# insert model name here\n",
        "# /content/gdrive/MyDrive/Work/BlogData/best_epoch12.pt\n",
        "# MAR takes in a model in torchscript format\n",
        "\n",
        "\n",
        "torch-model-archiver --model-name resnet18 --version 1.0 --model-file ./serve/examples/image_classifier/densenet_161/model.py --serialized-file densenet161-8d451a50.pth --export-path model_store \\\n",
        "    --extra-files ./serve/examples/image_classifier/index_to_name.json --handler image_classifier\n"
      ]
    },
    {
      "cell_type": "code",
      "execution_count": null,
      "metadata": {},
      "outputs": [],
      "source": []
    },
    {
      "cell_type": "code",
      "execution_count": null,
      "metadata": {},
      "outputs": [],
      "source": []
    }
  ],
  "metadata": {
    "accelerator": "GPU",
    "colab": {
      "collapsed_sections": [],
      "name": "ArtClassVisionTransformer.ipynb",
      "provenance": []
    },
    "kernelspec": {
      "display_name": "Python 3",
      "name": "python3"
    },
    "language_info": {
      "codemirror_mode": {
        "name": "ipython",
        "version": 3
      },
      "file_extension": ".py",
      "mimetype": "text/x-python",
      "name": "python",
      "nbconvert_exporter": "python",
      "pygments_lexer": "ipython3",
      "version": "3.9.7"
    }
  },
  "nbformat": 4,
  "nbformat_minor": 0
}
