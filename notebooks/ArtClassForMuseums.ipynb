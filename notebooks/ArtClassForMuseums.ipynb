{
  "cells": [
    {
      "cell_type": "markdown",
      "metadata": {
        "colab_type": "text",
        "id": "view-in-github"
      },
      "source": [
        "<a href=\"https://colab.research.google.com/github/AntMorais/artclass/blob/main/ArtClassForMuseums.ipynb\" target=\"_parent\"><img src=\"https://colab.research.google.com/assets/colab-badge.svg\" alt=\"Open In Colab\"/></a>"
      ]
    },
    {
      "cell_type": "markdown",
      "metadata": {
        "id": "q4JfVYDNS1vZ"
      },
      "source": [
        "# TODO\n",
        "- Image classification model\n",
        "- Train on WikiArt dataset\n",
        "- Predict artist\n",
        "- Serialize and convert to mobile\n",
        "- Get information about the artist\n"
      ]
    },
    {
      "cell_type": "markdown",
      "metadata": {
        "id": "jYbwzyPsTVTw"
      },
      "source": [
        "# 1 - Get dataset"
      ]
    },
    {
      "cell_type": "code",
      "execution_count": null,
      "metadata": {
        "id": "qXkM_VTwTsox"
      },
      "outputs": [],
      "source": [
        "%%bash\n",
        "wget http://web.fsktm.um.edu.my/~cschan/source/ICIP2017/wikiart.zip -P datasets\n",
        "wget web.fsktm.um.edu.my/~cschan/source/ICIP2017/wikiart_csv.zip -P datasets"
      ]
    },
    {
      "cell_type": "code",
      "execution_count": null,
      "metadata": {
        "id": "HlxxMUMwUTvd"
      },
      "outputs": [],
      "source": [
        "%%bash \n",
        "unzip \"*.zip\""
      ]
    },
    {
      "cell_type": "code",
      "execution_count": 10,
      "metadata": {
        "id": "ArLH4WVnUZDB"
      },
      "outputs": [],
      "source": [
        "import torch\n",
        "import torchvision"
      ]
    },
    {
      "cell_type": "code",
      "execution_count": 27,
      "metadata": {},
      "outputs": [
        {
          "data": {
            "text/plain": [
              "tensor([[[ 81,  77,  73,  ..., 119, 119, 114],\n",
              "         [ 85,  82,  79,  ..., 114, 116, 113],\n",
              "         [ 86,  86,  85,  ..., 110, 111, 110],\n",
              "         ...,\n",
              "         [106, 101,  93,  ...,  55,  54,  52],\n",
              "         [110, 104,  97,  ...,  57,  57,  56],\n",
              "         [114, 109, 102,  ...,  57,  57,  57]],\n",
              "\n",
              "        [[ 67,  63,  59,  ..., 123, 123, 119],\n",
              "         [ 71,  68,  65,  ..., 118, 120, 117],\n",
              "         [ 72,  72,  71,  ..., 112, 115, 114],\n",
              "         ...,\n",
              "         [ 99,  93,  87,  ...,  61,  60,  58],\n",
              "         [ 99,  94,  87,  ...,  60,  61,  60],\n",
              "         [100,  95,  90,  ...,  61,  61,  61]],\n",
              "\n",
              "        [[ 54,  50,  46,  ..., 124, 126, 122],\n",
              "         [ 58,  55,  52,  ..., 119, 121, 120],\n",
              "         [ 59,  59,  58,  ..., 111, 114, 115],\n",
              "         ...,\n",
              "         [ 73,  70,  65,  ...,  49,  48,  46],\n",
              "         [ 71,  67,  62,  ...,  49,  47,  46],\n",
              "         [ 71,  68,  64,  ...,  47,  47,  47]]], dtype=torch.uint8)"
            ]
          },
          "execution_count": 27,
          "metadata": {},
          "output_type": "execute_result"
        }
      ],
      "source": [
        "import torch\n",
        "import torchvision\n",
        "\n",
        "img_raw = torchvision.io.read_file(\"artemisia-gentileschi_portrait-of-a-condottiero-1622.jpg\")\n",
        "#johann-koler_christ-of-the-cross-1859.jpg\n",
        "#wikiart/Baroque/artemisia-gentileschi_portrait-of-a-condottiero-1622.jpg\n",
        "torch.ops.image.decode_image(img_raw, 0)\n"
      ]
    },
    {
      "cell_type": "markdown",
      "metadata": {
        "id": "d7kmtFRcTazO"
      },
      "source": [
        "# 2 - Get pretrained model"
      ]
    },
    {
      "cell_type": "markdown",
      "metadata": {
        "id": "gFGbVpJFTecD"
      },
      "source": [
        "# 3 - Finetune model "
      ]
    },
    {
      "cell_type": "markdown",
      "metadata": {
        "id": "aqM2fGcTThQO"
      },
      "source": [
        "# 4 - Test on unseen data"
      ]
    },
    {
      "cell_type": "markdown",
      "metadata": {
        "id": "-ccopXxNTlxM"
      },
      "source": [
        "# 5 - Serialize model and use it in mobile app\n"
      ]
    }
  ],
  "metadata": {
    "colab": {
      "authorship_tag": "ABX9TyM8cT8GY/YgE2s11dbD9H7a",
      "include_colab_link": true,
      "name": "ArtClassForMuseums.ipynb",
      "provenance": []
    },
    "kernelspec": {
      "display_name": "Python 3",
      "name": "python3"
    },
    "language_info": {
      "codemirror_mode": {
        "name": "ipython",
        "version": 3
      },
      "file_extension": ".py",
      "mimetype": "text/x-python",
      "name": "python",
      "nbconvert_exporter": "python",
      "pygments_lexer": "ipython3",
      "version": "3.9.7"
    }
  },
  "nbformat": 4,
  "nbformat_minor": 0
}
